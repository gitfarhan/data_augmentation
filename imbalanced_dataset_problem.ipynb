{
 "cells": [
  {
   "cell_type": "code",
   "execution_count": 61,
   "metadata": {},
   "outputs": [],
   "source": [
    "from sklearn.datasets import make_classification\n",
    "import numpy as np\n",
    "import pandas as pd"
   ]
  },
  {
   "cell_type": "markdown",
   "metadata": {},
   "source": [
    "## Generates toy dataset for binary classification"
   ]
  },
  {
   "cell_type": "code",
   "execution_count": 138,
   "metadata": {},
   "outputs": [],
   "source": [
    "def generate_data():\n",
    "    x, y = make_classification(n_samples=5000, n_features=20, n_classes=2, \n",
    "                               weights=[0.95, 0.05], random_state=2202)\n",
    "    return x, y\n",
    "\n",
    "x, y = generate_data()"
   ]
  },
  {
   "cell_type": "markdown",
   "metadata": {},
   "source": [
    "## Metrics"
   ]
  },
  {
   "cell_type": "code",
   "execution_count": 131,
   "metadata": {},
   "outputs": [],
   "source": [
    "from sklearn.metrics import recall_score\n",
    "from sklearn.metrics import accuracy_score\n",
    "from sklearn.metrics import precision_score\n",
    "from sklearn.metrics import f1_score\n",
    "\n",
    "from sklearn.tree import DecisionTreeClassifier\n",
    "from sklearn.model_selection import StratifiedKFold\n",
    "\n",
    "def classify(x, y):\n",
    "\n",
    "    print(f\"Samples of class 0: {y.shape[0] - np.sum(y)}\")\n",
    "    print(f\"Samples of class 1: {np.sum(y)}\")\n",
    "\n",
    "    # Defines the model to be used\n",
    "    model = DecisionTreeClassifier(max_depth=3)\n",
    "\n",
    "    avg_accuracy = []\n",
    "    avg_precision = []\n",
    "    avg_recall = []\n",
    "    avg_f1score = []\n",
    "\n",
    "    # Defines Stratified K-fold in order to keep\n",
    "    # the class balance for each fold\n",
    "    st_k_fold = StratifiedKFold(n_splits=10)\n",
    "\n",
    "    for train_idx, test_idx in st_k_fold.split(x, y):\n",
    "        \n",
    "        # Training fold\n",
    "        x_train = x[train_idx]\n",
    "        y_train = y[train_idx]\n",
    "        \n",
    "        # Testing fold\n",
    "        x_test = x[test_idx]\n",
    "        y_test = y[test_idx]\n",
    "\n",
    "        # Train\n",
    "        model.fit(x_train, y_train)\n",
    "\n",
    "        # Get metrics\n",
    "        accuracy = accuracy_score(y_test, model.predict(x_test))\n",
    "        precision = precision_score(y_test, model.predict(x_test))\n",
    "        recall = recall_score(y_test, model.predict(x_test))\n",
    "        f1score = f1_score(y_test, model.predict(x_test))\n",
    "\n",
    "        # Save metrics\n",
    "        avg_accuracy.append(accuracy)\n",
    "        avg_precision.append(precision)\n",
    "        avg_recall.append(recall)\n",
    "        avg_f1score.append(f1score)\n",
    "    \n",
    "    acc = np.mean(avg_accuracy)\n",
    "    prec = np.mean(avg_precision)\n",
    "    rec = np.mean(avg_recall)\n",
    "    f1 = np.mean(avg_f1score)\n",
    "    result_df = pd.DataFrame([acc, prec, rec, f1], \n",
    "                        index=['accuracy', 'precision', 'recall', 'f1-score'])\n",
    "    result_df.index.name = 'avg.'\n",
    "    print(result_df)"
   ]
  },
  {
   "cell_type": "markdown",
   "metadata": {},
   "source": [
    "## IMBALANCED-LEARN IN PRACTICE"
   ]
  },
  {
   "cell_type": "code",
   "execution_count": 132,
   "metadata": {},
   "outputs": [],
   "source": [
    "from imblearn.under_sampling import RandomUnderSampler\n",
    "from imblearn.over_sampling import RandomOverSampler\n",
    "from imblearn.over_sampling import SMOTE"
   ]
  },
  {
   "cell_type": "code",
   "execution_count": 133,
   "metadata": {},
   "outputs": [],
   "source": [
    "# Applies DT without fixing the class imbalance problem.\n",
    "def dummy_decision_tree():\n",
    "    classify(x, y)\n",
    "\n",
    "# Applies Random Undersampling\n",
    "def under_sampler():\n",
    "    rus = RandomUnderSampler()\n",
    "    x_under_sampler, y_under_sampler = rus.fit_resample(x, y)\n",
    "    classify(x_under_sampler, y_under_sampler)\n",
    "\n",
    "# Applies Random Oversampling\n",
    "def over_sampler():\n",
    "    ros = RandomOverSampler()\n",
    "    x_over_sampler, y_over_sampler = ros.fit_resample(x, y)\n",
    "    classify(x_over_sampler, y_over_sampler)\n",
    "\n",
    "# Applies Synthetic Data Augmentation through SMOTE\n",
    "def smote():\n",
    "    smote= SMOTE()\n",
    "    x_smote, y_smote = smote.fit_resample(x, y)\n",
    "    classify(x_smote, y_smote)"
   ]
  },
  {
   "cell_type": "markdown",
   "metadata": {},
   "source": [
    "### without fixing imbalance problem"
   ]
  },
  {
   "cell_type": "code",
   "execution_count": 134,
   "metadata": {},
   "outputs": [
    {
     "name": "stdout",
     "output_type": "stream",
     "text": [
      "Samples of class 0: 4722\n",
      "Samples of class 1: 278\n",
      "                  0\n",
      "avg.               \n",
      "accuracy   0.962000\n",
      "precision  0.774298\n",
      "recall     0.456217\n",
      "f1-score   0.569593\n"
     ]
    }
   ],
   "source": [
    "dummy_decision_tree()"
   ]
  },
  {
   "cell_type": "markdown",
   "metadata": {},
   "source": [
    "### under sampling"
   ]
  },
  {
   "cell_type": "code",
   "execution_count": 135,
   "metadata": {},
   "outputs": [
    {
     "name": "stdout",
     "output_type": "stream",
     "text": [
      "Samples of class 0: 278\n",
      "Samples of class 1: 278\n",
      "                  0\n",
      "avg.               \n",
      "accuracy   0.786006\n",
      "precision  0.849343\n",
      "recall     0.701984\n",
      "f1-score   0.764575\n"
     ]
    }
   ],
   "source": [
    "under_sampler()"
   ]
  },
  {
   "cell_type": "markdown",
   "metadata": {},
   "source": [
    "### oversampling"
   ]
  },
  {
   "cell_type": "code",
   "execution_count": 136,
   "metadata": {},
   "outputs": [
    {
     "name": "stdout",
     "output_type": "stream",
     "text": [
      "Samples of class 0: 4722\n",
      "Samples of class 1: 4722\n",
      "                  0\n",
      "avg.               \n",
      "accuracy   0.810040\n",
      "precision  0.892537\n",
      "recall     0.707750\n",
      "f1-score   0.788088\n"
     ]
    }
   ],
   "source": [
    "over_sampler()"
   ]
  },
  {
   "cell_type": "markdown",
   "metadata": {},
   "source": [
    "### SMOTE (Synthetic Minority Oversampling Technique)"
   ]
  },
  {
   "cell_type": "code",
   "execution_count": 137,
   "metadata": {},
   "outputs": [
    {
     "name": "stdout",
     "output_type": "stream",
     "text": [
      "Samples of class 0: 4722\n",
      "Samples of class 1: 4722\n",
      "                  0\n",
      "avg.               \n",
      "accuracy   0.829205\n",
      "precision  0.870447\n",
      "recall     0.776166\n",
      "f1-score   0.819323\n"
     ]
    }
   ],
   "source": [
    "smote()"
   ]
  }
 ],
 "metadata": {
  "kernelspec": {
   "display_name": "Python 3",
   "language": "python",
   "name": "python3"
  },
  "language_info": {
   "codemirror_mode": {
    "name": "ipython",
    "version": 3
   },
   "file_extension": ".py",
   "mimetype": "text/x-python",
   "name": "python",
   "nbconvert_exporter": "python",
   "pygments_lexer": "ipython3",
   "version": "3.8.5"
  }
 },
 "nbformat": 4,
 "nbformat_minor": 4
}
